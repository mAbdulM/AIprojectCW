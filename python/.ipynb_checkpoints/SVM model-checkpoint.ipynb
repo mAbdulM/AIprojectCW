{
 "cells": [
  {
   "cell_type": "code",
   "execution_count": 6,
   "id": "25d595bb",
   "metadata": {},
   "outputs": [],
   "source": [
    "import numpy as np\n",
    "import pandas as pd\n",
    "from sklearn.model_selection import train_test_split\n",
    "from sklearn.preprocessing import StandardScaler\n",
    "from sklearn.svm import SVR\n",
    "from sklearn.metrics import mean_squared_error, r2_score\n",
    "import matplotlib.pyplot as plt\n",
    "from pathlib import Path"
   ]
  },
  {
   "cell_type": "code",
   "execution_count": 7,
   "id": "ce4bd368",
   "metadata": {},
   "outputs": [],
   "source": [
    "# Load CSV file\n",
    "filepath = Path.cwd().parent/\"dataSet\" / \"player_stats.csv\"\n",
    "data = pd.read_csv(filepath, encoding='latin1')\n",
    "\n",
    "# Remove dots and dollar signs, and convert to float\n",
    "data['value'] = data['value'].replace('[^\\d]', '', regex=True).astype(float)\n",
    "\n",
    "# Remove null column and player column as the name should not affect the market value  \n",
    "data.drop('marking', axis=1, inplace=True)\n",
    "data.drop('player', axis=1, inplace=True)\n",
    "\n",
    "#one hot encode the country and club features\n",
    "encoded_df = pd.get_dummies(data, columns=['country','club'], prefix=['country','club'])"
   ]
  },
  {
   "cell_type": "code",
   "execution_count": 8,
   "id": "c7048ca8",
   "metadata": {},
   "outputs": [],
   "source": [
    "# Separate features and target\n",
    "X = encoded_df.drop('value', axis=1)  \n",
    "y = encoded_df['value']\n",
    "\n",
    "# Split the dataset into training and test sets (70% training, 30% test)\n",
    "X_train, X_test, y_train, y_test = train_test_split(X, y,train_size = 0.7, random_state=42)\n",
    "\n",
    "# Further split the test set into training and validation sets (70% testing, 30% validation)\n",
    "X_train, X_valid, y_train, y_valid = train_test_split(X_train, y_train,train_size = 0.7, random_state=42)"
   ]
  },
  {
   "cell_type": "code",
   "execution_count": 9,
   "id": "dd08ab8b",
   "metadata": {},
   "outputs": [],
   "source": [
    "scaler = StandardScaler()\n",
    "X_train_scaled = scaler.fit_transform(X_train)\n",
    "X_test_scaled = scaler.transform(X_test)"
   ]
  },
  {
   "cell_type": "code",
   "execution_count": 10,
   "id": "4da7c1df",
   "metadata": {},
   "outputs": [
    {
     "name": "stdout",
     "output_type": "stream",
     "text": [
      "Mean Squared Error (MSE): 77383602009153.78\n",
      "R-squared Score: -0.07165676103191321\n"
     ]
    }
   ],
   "source": [
    "# Create SVR model\n",
    "svm_model = SVR(kernel='poly')\n",
    "\n",
    "# Train the model\n",
    "svm_model.fit(X_train, y_train)\n",
    "\n",
    "# Predictions on the test set\n",
    "y_pred = svm_model.predict(X_test)\n",
    "\n",
    "# Calculate evaluation metrics (MSE and R-squared)\n",
    "mse = mean_squared_error(y_test, y_pred)\n",
    "r2 = r2_score(y_test, y_pred)\n",
    "\n",
    "print(f'Mean Squared Error (MSE): {mse}')\n",
    "print(f'R-squared Score: {r2}')"
   ]
  },
  {
   "cell_type": "code",
   "execution_count": null,
   "id": "97f797a0",
   "metadata": {},
   "outputs": [],
   "source": []
  },
  {
   "cell_type": "code",
   "execution_count": 19,
   "id": "547459d3",
   "metadata": {},
   "outputs": [
    {
     "name": "stdout",
     "output_type": "stream",
     "text": [
      "running\n",
      "Fitting 5 folds for each of 36 candidates, totalling 180 fits\n",
      "R^2 Score: -0.23410155434322877\n",
      "Mean Squared Error: 89113629468652.78\n"
     ]
    }
   ],
   "source": [
    "from sklearn.model_selection import GridSearchCV\n",
    "# Define SVM model\n",
    "svm_model = SVR()\n",
    "\n",
    "# Define hyperparameters grid for tuning\n",
    "param_grid = {'C': [20, 30, 42], 'kernel': ['sigmoid', 'rbf', 'poly'], 'gamma': [5, 15, 32, 0.6]}\n",
    "print(\"running\")\n",
    "# Perform GridSearchCV\n",
    "grid_search = GridSearchCV(svm_model, param_grid, cv=5, scoring='r2', n_jobs=-1, verbose=5)\n",
    "grid_search.fit(X_train_scaled, y_train)\n",
    "\n",
    "# Get best hyperparameters\n",
    "best_params = grid_search.best_params_\n",
    "\n",
    "# Train SVM model with best hyperparameters\n",
    "best_svm_model = SVR(**best_params)\n",
    "best_svm_model.fit(X_train_scaled, y_train)\n",
    "                  # Predictions\n",
    "y_pred = best_svm_model.predict(X_test_scaled)\n",
    "\n",
    "# Evaluate with different metrics\n",
    "r2_score = best_svm_model.score(X_test_scaled, y_test)\n",
    "mse = mean_squared_error(y_test, y_pred)\n",
    "\n",
    "print(f\"R^2 Score: {r2_score}\")\n",
    "print(f\"Mean Squared Error: {mse}\")"
   ]
  }
 ],
 "metadata": {
  "kernelspec": {
   "display_name": "Python 3 (ipykernel)",
   "language": "python",
   "name": "python3"
  },
  "language_info": {
   "codemirror_mode": {
    "name": "ipython",
    "version": 3
   },
   "file_extension": ".py",
   "mimetype": "text/x-python",
   "name": "python",
   "nbconvert_exporter": "python",
   "pygments_lexer": "ipython3",
   "version": "3.11.5"
  }
 },
 "nbformat": 4,
 "nbformat_minor": 5
}
