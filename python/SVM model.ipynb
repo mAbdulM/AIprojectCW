{
 "cells": [
  {
   "cell_type": "code",
   "execution_count": 1,
   "id": "ba929518",
   "metadata": {},
   "outputs": [],
   "source": [
    "import numpy as np\n",
    "import pandas as pd\n",
    "from sklearn.model_selection import train_test_split\n",
    "from sklearn.preprocessing import StandardScaler\n",
    "from sklearn.svm import SVR\n",
    "from sklearn.metrics import mean_squared_error, r2_score\n",
    "import matplotlib.pyplot as plt\n",
    "from pathlib import Path"
   ]
  },
  {
   "cell_type": "code",
   "execution_count": 2,
   "id": "18fe3912",
   "metadata": {},
   "outputs": [],
   "source": [
    "# Load CSV file\n",
    "filepath = Path.cwd().parent/\"dataSet\" / \"player_stats.csv\"\n",
    "data = pd.read_csv(filepath, encoding='latin1')\n",
    "\n",
    "# Remove dots and dollar signs, and convert to float\n",
    "data['value'] = data['value'].replace('[^\\d]', '', regex=True).astype(float)\n",
    "\n",
    "# Remove null column and player column as the name should not affect the market value  \n",
    "data.drop('marking', axis=1, inplace=True)\n",
    "data.drop('player', axis=1, inplace=True)\n",
    "\n",
    "#one hot encode the country and club features\n",
    "encoded_df = pd.get_dummies(data, columns=['country','club'], prefix=['country','club'])"
   ]
  },
  {
   "cell_type": "code",
   "execution_count": 3,
   "id": "64719c2f",
   "metadata": {},
   "outputs": [],
   "source": [
    "# Separate features and target\n",
    "X = encoded_df.drop('value', axis=1)  \n",
    "y = encoded_df['value']\n",
    "\n",
    "# Split the dataset into training and test sets (70% training, 30% test)\n",
    "X_train, X_test, y_train, y_test = train_test_split(X, y,train_size = 0.7, random_state=42)\n",
    "\n",
    "# Further split the test set into training and validation sets (70% testing, 30% validation)\n",
    "X_train, X_valid, y_train, y_valid = train_test_split(X_train, y_train,train_size = 0.7, random_state=42)"
   ]
  },
  {
   "cell_type": "code",
   "execution_count": 4,
   "id": "bbe24ddb",
   "metadata": {},
   "outputs": [],
   "source": [
    "scaler = StandardScaler()\n",
    "X_train_scaled = scaler.fit_transform(X_train)\n",
    "X_test_scaled = scaler.transform(X_test)"
   ]
  },
  {
   "cell_type": "code",
   "execution_count": 5,
   "id": "ae2d481d",
   "metadata": {},
   "outputs": [
    {
     "name": "stdout",
     "output_type": "stream",
     "text": [
      "Mean Squared Error (MSE): 77383602009153.78\n",
      "R-squared Score: -0.07165676103191321\n"
     ]
    }
   ],
   "source": [
    "# Create SVR model\n",
    "svm_model = SVR(kernel='poly')\n",
    "\n",
    "# Train the model\n",
    "svm_model.fit(X_train, y_train)\n",
    "\n",
    "# Predictions on the test set\n",
    "y_pred = svm_model.predict(X_test)\n",
    "\n",
    "# Calculate evaluation metrics (MSE and R-squared)\n",
    "mse = mean_squared_error(y_test, y_pred)\n",
    "r2 = r2_score(y_test, y_pred)\n",
    "\n",
    "print(f'Mean Squared Error (MSE): {mse}')\n",
    "print(f'R-squared Score: {r2}')"
   ]
  },
  {
   "cell_type": "code",
   "execution_count": null,
   "id": "e0427202",
   "metadata": {},
   "outputs": [],
   "source": []
  },
  {
   "cell_type": "code",
   "execution_count": 6,
   "id": "84740d8e",
   "metadata": {},
   "outputs": [
    {
     "name": "stdout",
     "output_type": "stream",
     "text": [
      "running\n",
      "Fitting 5 folds for each of 36 candidates, totalling 180 fits\n"
     ]
    },
    {
     "name": "stderr",
     "output_type": "stream",
     "text": [
      "/Users/rifaat/anaconda3/lib/python3.11/site-packages/sklearn/model_selection/_validation.py:425: FitFailedWarning: \n",
      "60 fits failed out of a total of 180.\n",
      "The score on these train-test partitions for these parameters will be set to nan.\n",
      "If these failures are not expected, you can try to debug them by setting error_score='raise'.\n",
      "\n",
      "Below are more details about the failures:\n",
      "--------------------------------------------------------------------------------\n",
      "26 fits failed with the following error:\n",
      "Traceback (most recent call last):\n",
      "  File \"/Users/rifaat/anaconda3/lib/python3.11/site-packages/sklearn/model_selection/_validation.py\", line 732, in _fit_and_score\n",
      "    estimator.fit(X_train, y_train, **fit_params)\n",
      "  File \"/Users/rifaat/anaconda3/lib/python3.11/site-packages/sklearn/base.py\", line 1144, in wrapper\n",
      "    estimator._validate_params()\n",
      "  File \"/Users/rifaat/anaconda3/lib/python3.11/site-packages/sklearn/base.py\", line 637, in _validate_params\n",
      "    validate_parameter_constraints(\n",
      "  File \"/Users/rifaat/anaconda3/lib/python3.11/site-packages/sklearn/utils/_param_validation.py\", line 95, in validate_parameter_constraints\n",
      "    raise InvalidParameterError(\n",
      "sklearn.utils._param_validation.InvalidParameterError: The 'kernel' parameter of SVR must be a str among {'rbf', 'poly', 'sigmoid', 'precomputed', 'linear'} or a callable. Got 'Exponential' instead.\n",
      "\n",
      "--------------------------------------------------------------------------------\n",
      "20 fits failed with the following error:\n",
      "Traceback (most recent call last):\n",
      "  File \"/Users/rifaat/anaconda3/lib/python3.11/site-packages/sklearn/model_selection/_validation.py\", line 732, in _fit_and_score\n",
      "    estimator.fit(X_train, y_train, **fit_params)\n",
      "  File \"/Users/rifaat/anaconda3/lib/python3.11/site-packages/sklearn/base.py\", line 1144, in wrapper\n",
      "    estimator._validate_params()\n",
      "  File \"/Users/rifaat/anaconda3/lib/python3.11/site-packages/sklearn/base.py\", line 637, in _validate_params\n",
      "    validate_parameter_constraints(\n",
      "  File \"/Users/rifaat/anaconda3/lib/python3.11/site-packages/sklearn/utils/_param_validation.py\", line 95, in validate_parameter_constraints\n",
      "    raise InvalidParameterError(\n",
      "sklearn.utils._param_validation.InvalidParameterError: The 'kernel' parameter of SVR must be a str among {'poly', 'linear', 'precomputed', 'rbf', 'sigmoid'} or a callable. Got 'Exponential' instead.\n",
      "\n",
      "--------------------------------------------------------------------------------\n",
      "1 fits failed with the following error:\n",
      "Traceback (most recent call last):\n",
      "  File \"/Users/rifaat/anaconda3/lib/python3.11/site-packages/sklearn/model_selection/_validation.py\", line 732, in _fit_and_score\n",
      "    estimator.fit(X_train, y_train, **fit_params)\n",
      "  File \"/Users/rifaat/anaconda3/lib/python3.11/site-packages/sklearn/base.py\", line 1144, in wrapper\n",
      "    estimator._validate_params()\n",
      "  File \"/Users/rifaat/anaconda3/lib/python3.11/site-packages/sklearn/base.py\", line 637, in _validate_params\n",
      "    validate_parameter_constraints(\n",
      "  File \"/Users/rifaat/anaconda3/lib/python3.11/site-packages/sklearn/utils/_param_validation.py\", line 95, in validate_parameter_constraints\n",
      "    raise InvalidParameterError(\n",
      "sklearn.utils._param_validation.InvalidParameterError: The 'kernel' parameter of SVR must be a str among {'poly', 'precomputed', 'rbf', 'linear', 'sigmoid'} or a callable. Got 'Exponential' instead.\n",
      "\n",
      "--------------------------------------------------------------------------------\n",
      "13 fits failed with the following error:\n",
      "Traceback (most recent call last):\n",
      "  File \"/Users/rifaat/anaconda3/lib/python3.11/site-packages/sklearn/model_selection/_validation.py\", line 732, in _fit_and_score\n",
      "    estimator.fit(X_train, y_train, **fit_params)\n",
      "  File \"/Users/rifaat/anaconda3/lib/python3.11/site-packages/sklearn/base.py\", line 1144, in wrapper\n",
      "    estimator._validate_params()\n",
      "  File \"/Users/rifaat/anaconda3/lib/python3.11/site-packages/sklearn/base.py\", line 637, in _validate_params\n",
      "    validate_parameter_constraints(\n",
      "  File \"/Users/rifaat/anaconda3/lib/python3.11/site-packages/sklearn/utils/_param_validation.py\", line 95, in validate_parameter_constraints\n",
      "    raise InvalidParameterError(\n",
      "sklearn.utils._param_validation.InvalidParameterError: The 'kernel' parameter of SVR must be a str among {'precomputed', 'rbf', 'sigmoid', 'linear', 'poly'} or a callable. Got 'Exponential' instead.\n",
      "\n",
      "  warnings.warn(some_fits_failed_message, FitFailedWarning)\n",
      "/Users/rifaat/anaconda3/lib/python3.11/site-packages/sklearn/model_selection/_search.py:976: UserWarning: One or more of the test scores are non-finite: [        nan -0.08846648  0.38174036         nan -0.08846648  0.38174045\n",
      "         nan -0.08846648  0.38174036         nan -0.08846648  0.38174036\n",
      "         nan -0.08846683  0.38174036         nan -0.08846683  0.38174045\n",
      "         nan -0.08846683  0.38174036         nan -0.08846683  0.38174036\n",
      "         nan -0.08846724  0.38174036         nan -0.08846724  0.38174045\n",
      "         nan -0.08846724  0.38174036         nan -0.08846724  0.38174036]\n",
      "  warnings.warn(\n"
     ]
    },
    {
     "name": "stdout",
     "output_type": "stream",
     "text": [
      "R^2 Score: -0.23410155434322877\n",
      "Mean Squared Error: 89113629468652.78\n"
     ]
    }
   ],
   "source": [
    "from sklearn.model_selection import GridSearchCV\n",
    "# Define SVM model\n",
    "svm_model = SVR()\n",
    "\n",
    "# Define hyperparameters grid for tuning\n",
    "param_grid = {'C': [20, 30, 42], 'kernel': ['Exponential', 'rbf', 'poly'], 'gamma': [5, 15, 32, 0.6]}\n",
    "print(\"running\")\n",
    "# Perform GridSearchCV\n",
    "grid_search = GridSearchCV(svm_model, param_grid, cv=5, scoring='r2', n_jobs=-1, verbose=5)\n",
    "grid_search.fit(X_train_scaled, y_train)\n",
    "\n",
    "# Get best hyperparameters\n",
    "best_params = grid_search.best_params_\n",
    "\n",
    "# Train SVM model with best hyperparameters\n",
    "best_svm_model = SVR(**best_params)\n",
    "best_svm_model.fit(X_train_scaled, y_train)\n",
    "                  # Predictions\n",
    "y_pred = best_svm_model.predict(X_test_scaled)\n",
    "\n",
    "# Evaluate with different metrics\n",
    "r2_score = best_svm_model.score(X_test_scaled, y_test)\n",
    "mse = mean_squared_error(y_test, y_pred)\n",
    "\n",
    "print(f\"R^2 Score: {r2_score}\")\n",
    "print(f\"Mean Squared Error: {mse}\")"
   ]
  },
  {
   "cell_type": "code",
   "execution_count": 7,
   "id": "4136c116",
   "metadata": {},
   "outputs": [
    {
     "ename": "NameError",
     "evalue": "name 'xStrings' is not defined",
     "output_type": "error",
     "traceback": [
      "\u001b[0;31m---------------------------------------------------------------------------\u001b[0m",
      "\u001b[0;31mNameError\u001b[0m                                 Traceback (most recent call last)",
      "Cell \u001b[0;32mIn[7], line 2\u001b[0m\n\u001b[1;32m      1\u001b[0m \u001b[38;5;66;03m#categorical data\u001b[39;00m\n\u001b[0;32m----> 2\u001b[0m \u001b[38;5;28;01mfor\u001b[39;00m column \u001b[38;5;129;01min\u001b[39;00m xStrings\u001b[38;5;241m.\u001b[39mcolumns:\n\u001b[1;32m      3\u001b[0m     \n\u001b[1;32m      4\u001b[0m     \u001b[38;5;66;03m# Group data by country and compute summary statistics\u001b[39;00m\n\u001b[1;32m      5\u001b[0m     summary_stats \u001b[38;5;241m=\u001b[39m df\u001b[38;5;241m.\u001b[39mgroupby(column)[\u001b[38;5;124m'\u001b[39m\u001b[38;5;124mvalue\u001b[39m\u001b[38;5;124m'\u001b[39m]\u001b[38;5;241m.\u001b[39magg([\u001b[38;5;124m'\u001b[39m\u001b[38;5;124mmean\u001b[39m\u001b[38;5;124m'\u001b[39m, \u001b[38;5;124m'\u001b[39m\u001b[38;5;124mmedian\u001b[39m\u001b[38;5;124m'\u001b[39m, \u001b[38;5;124m'\u001b[39m\u001b[38;5;124mstd\u001b[39m\u001b[38;5;124m'\u001b[39m])\u001b[38;5;241m.\u001b[39mreset_index()\n\u001b[1;32m      7\u001b[0m     \u001b[38;5;66;03m# Sort the summary statistics by mean player value and get top 30 for better visualization\u001b[39;00m\n",
      "\u001b[0;31mNameError\u001b[0m: name 'xStrings' is not defined"
     ]
    }
   ],
   "source": [
    "#categorical data\n",
    "for column in xStrings.columns:\n",
    "    \n",
    "    # Group data by country and compute summary statistics\n",
    "    summary_stats = df.groupby(column)['value'].agg(['mean', 'median', 'std']).reset_index()\n",
    "\n",
    "    # Sort the summary statistics by mean player value and get top 30 for better visualization\n",
    "    summary_stats = summary_stats.sort_values(by='mean', ascending=False).head(50)\n",
    "\n",
    "    # Create a bar plot to visualize mean player value by country\n",
    "    plt.figure(figsize=(12, 8))\n",
    "    plt.bar(summary_stats[column], summary_stats['mean'], color='skyblue', label='Mean Value')\n",
    "    plt.errorbar(summary_stats[column], summary_stats['mean'], yerr=summary_stats['std'], fmt='o', color='red', label='Standard Deviation')\n",
    "    plt.xlabel(column)\n",
    "    plt.ylabel('Player Value')\n",
    "    plt.title(f'Mean Player Value by {column} with Standard Deviation')\n",
    "    plt.xticks(rotation=90)\n",
    "    plt.legend()\n",
    "    plt.tight_layout()\n",
    "\n",
    "    # Display the plot\n",
    "    plt.show()\n",
    "\n",
    "    # Display the summary statistics table\n",
    "    print(summary_stats)"
   ]
  },
  {
   "cell_type": "code",
   "execution_count": null,
   "id": "d7d6c595",
   "metadata": {},
   "outputs": [],
   "source": []
  }
 ],
 "metadata": {
  "kernelspec": {
   "display_name": "Python 3 (ipykernel)",
   "language": "python",
   "name": "python3"
  },
  "language_info": {
   "codemirror_mode": {
    "name": "ipython",
    "version": 3
   },
   "file_extension": ".py",
   "mimetype": "text/x-python",
   "name": "python",
   "nbconvert_exporter": "python",
   "pygments_lexer": "ipython3",
   "version": "3.11.5"
  }
 },
 "nbformat": 4,
 "nbformat_minor": 5
}
