{
 "cells": [
  {
   "cell_type": "code",
   "execution_count": 9,
   "id": "7a5e0cef",
   "metadata": {},
   "outputs": [],
   "source": [
    "import numpy as np\n",
    "import pandas as pd\n",
    "from sklearn.model_selection import train_test_split\n",
    "from sklearn.preprocessing import StandardScaler\n",
    "from sklearn.svm import SVR\n",
    "from sklearn.metrics import mean_squared_error, r2_score\n",
    "from sklearn.model_selection import learning_curve\n",
    "import matplotlib.pyplot as plt\n",
    "from pathlib import Path"
   ]
  },
  {
   "cell_type": "code",
   "execution_count": 10,
   "id": "44c56b61",
   "metadata": {},
   "outputs": [],
   "source": [
    "# Load CSV file\n",
    "filepath = Path.cwd().parent/\"dataSet\" / \"player_stats.csv\"\n",
    "data = pd.read_csv(filepath, encoding='latin1')\n",
    "\n",
    "# Remove dots and dollar signs, and convert to float\n",
    "data['value'] = data['value'].replace('[^\\d]', '', regex=True).astype(float)\n",
    "\n",
    "# Remove null column and player column as the name should not affect the market value  \n",
    "data.drop('marking', axis=1, inplace=True)\n",
    "data.drop('player', axis=1, inplace=True)\n",
    "\n",
    "#one hot encode the country and club features\n",
    "#encoded_df = pd.get_dummies(data, columns=['country','club'], prefix=['country','club'])\n",
    "encoded_df=data.drop([\"country\", \"club\"], axis=1)"
   ]
  },
  {
   "cell_type": "code",
   "execution_count": 11,
   "id": "e9b35967",
   "metadata": {},
   "outputs": [
    {
     "name": "stdout",
     "output_type": "stream",
     "text": [
      "Explained Variance: [0.97668936]\n"
     ]
    },
    {
     "data": {
      "text/plain": [
       "height                      int64\n",
       "weight                      int64\n",
       "age                         int64\n",
       "ball_control                int64\n",
       "dribbling                   int64\n",
       "slide_tackle                int64\n",
       "stand_tackle                int64\n",
       "aggression                  int64\n",
       "reactions                   int64\n",
       "att_position                int64\n",
       "interceptions               int64\n",
       "vision                      int64\n",
       "composure                   int64\n",
       "crossing                    int64\n",
       "short_pass                  int64\n",
       "long_pass                   int64\n",
       "acceleration                int64\n",
       "stamina                     int64\n",
       "strength                    int64\n",
       "balance                     int64\n",
       "sprint_speed                int64\n",
       "agility                     int64\n",
       "jumping                     int64\n",
       "heading                     int64\n",
       "shot_power                  int64\n",
       "finishing                   int64\n",
       "long_shots                  int64\n",
       "curve                       int64\n",
       "fk_acc                      int64\n",
       "penalties                   int64\n",
       "volleys                     int64\n",
       "value                     float64\n",
       "gk_Principal_Component    float64\n",
       "dtype: object"
      ]
     },
     "execution_count": 11,
     "metadata": {},
     "output_type": "execute_result"
    }
   ],
   "source": [
    "from sklearn.preprocessing import StandardScaler\n",
    "from sklearn.decomposition import PCA\n",
    "\n",
    "GK_df = encoded_df[[\"gk_handling\", \"gk_kicking\",\"gk_reflexes\",\"gk_positioning\",\"gk_diving\"]]\n",
    "#scale data\n",
    "scaler = StandardScaler()\n",
    "scaled_data = scaler.fit_transform(GK_df)\n",
    "\n",
    "# Apply PCA\n",
    "pca = PCA(n_components=1)\n",
    "principal_components = pca.fit_transform(scaled_data)\n",
    "\n",
    "# Variance explained by the principal component\n",
    "print(f\"Explained Variance: {pca.explained_variance_ratio_}\")\n",
    "\n",
    "# Create DataFrame for principal components\n",
    "principal_df = pd.DataFrame(data=principal_components, columns=['gk_Principal_Component'])\n",
    "\n",
    "# Join the principal components DataFrame with the encoded dataset\n",
    "encoded_df.drop([\"gk_handling\", \"gk_kicking\",\"gk_reflexes\",\"gk_positioning\",\"gk_diving\"], axis=1, inplace=True)\n",
    "encoded_df = encoded_df.merge(principal_df, left_index=True, right_index=True)\n",
    "encoded_df.dtypes"
   ]
  },
  {
   "cell_type": "code",
   "execution_count": 12,
   "id": "ea94ffbd",
   "metadata": {},
   "outputs": [],
   "source": [
    "# Separate features and target\n",
    "X = encoded_df.drop('value', axis=1)  \n",
    "y = encoded_df['value']\n",
    "\n",
    "# Split the dataset into training and test sets (70% training, 30% test)\n",
    "X_train, X_test, y_train, y_test = train_test_split(X, y,train_size = 0.7, random_state=42)\n",
    "\n",
    "# Further split the test set into training and validation sets (70% testing, 30% validation)\n",
    "X_train, X_valid, y_train, y_valid = train_test_split(X_train, y_train,train_size = 0.7, random_state=42)"
   ]
  },
  {
   "cell_type": "code",
   "execution_count": 21,
   "id": "7ed38ac2",
   "metadata": {},
   "outputs": [],
   "source": [
    "scaler = StandardScaler()\n",
    "X_train_scaled = scaler.fit_transform(X_train)\n",
    "X_test_scaled = scaler.transform(X_test)\n",
    "X_valid_scaled = scaler.transform(X_valid)"
   ]
  },
  {
   "cell_type": "code",
   "execution_count": 14,
   "id": "5ed4655b",
   "metadata": {},
   "outputs": [
    {
     "name": "stdout",
     "output_type": "stream",
     "text": [
      "Mean Squared Error (MSE): 77369969522049.53\n",
      "R-squared Score: -0.07146796978162717\n"
     ]
    }
   ],
   "source": [
    "# Create SVR model\n",
    "svm_model = SVR(kernel='poly')\n",
    "\n",
    "# Train the model\n",
    "svm_model.fit(X_train_scaled, y_train)\n",
    "\n",
    "# Predictions on the test set\n",
    "y_pred = svm_model.predict(X_test_scaled)\n",
    "y_pred\n",
    "# Calculate evaluation metrics (MSE and R-squared)\n",
    "mse = mean_squared_error(y_test, y_pred)\n",
    "r2 = r2_score(y_test, y_pred)\n",
    "\n",
    "print(f'Mean Squared Error (MSE): {mse}')\n",
    "print(f'R-squared Score: {r2}')"
   ]
  },
  {
   "cell_type": "code",
   "execution_count": 15,
   "id": "7099cfa3",
   "metadata": {},
   "outputs": [
    {
     "name": "stdout",
     "output_type": "stream",
     "text": [
      "running\n",
      "Fitting 5 folds for each of 1 candidates, totalling 5 fits\n",
      "Best param: {'C': 72, 'gamma': 1.4, 'kernel': 'poly'}\n",
      "Best score: 0.4485728280489284\n"
     ]
    }
   ],
   "source": [
    "from sklearn.model_selection import GridSearchCV\n",
    "# Define SVM model\n",
    "svm_model = SVR()\n",
    "\n",
    "# Define hyperparameters grid for tuning\n",
    "param_grid = {'C': [72], 'kernel': ['poly'], 'gamma': [1.4]}\n",
    "print(\"running\")\n",
    "# Perform GridSearchCV\n",
    "grid_search = GridSearchCV(svm_model, param_grid, cv=5, scoring='r2', n_jobs=-1, verbose=1)\n",
    "grid_search.fit(X_train_scaled, y_train)\n",
    "\n",
    "# Get best hyperparameters and score\n",
    "best_params = grid_search.best_params_\n",
    "print(f\"Best param: {best_params}\")\n",
    "print(f\"Best score: {grid_search.best_score_}\")\n",
    "\n",
    "best_svm_model = grid_search.best_estimator_"
   ]
  },
  {
   "cell_type": "code",
   "execution_count": 16,
   "id": "a086babb",
   "metadata": {},
   "outputs": [
    {
     "name": "stdout",
     "output_type": "stream",
     "text": [
      "hello\n"
     ]
    }
   ],
   "source": [
    "print(\"hello\")"
   ]
  },
  {
   "cell_type": "code",
   "execution_count": null,
   "id": "4b8c8324",
   "metadata": {},
   "outputs": [],
   "source": [
    "#visualise this models learning curve\n",
    "train_sizes, train_scores, test_scores = learning_curve(\n",
    "    best_svm_model, X, y, train_sizes=[0.1, 0.3, 0.5, 0.7, 0.9, 1], \n",
    "    cv=5, scoring='neg_mean_squared_error', random_state=42\n",
    ")\n",
    "\n",
    "print(f\"Training Sizes: {train_sizes} \\n Training Scores: {train_scores} \\n test_scores : {test_scores}\")\n",
    "\n",
    "# Calculate mean and standard deviation for training set scores and validation set scores\n",
    "train_scores_mean = -np.mean(train_scores, axis=1)\n",
    "train_scores_std = np.std(train_scores, axis=1)\n",
    "test_scores_mean = -np.mean(test_scores, axis=1)\n",
    "test_scores_std = np.std(test_scores, axis=1)\n",
    "\n",
    "# Plotting\n",
    "plt.figure(figsize=(10, 6))\n",
    "plt.fill_between(train_sizes, train_scores_mean - train_scores_std, train_scores_mean + train_scores_std, alpha=0.1, color=\"r\")\n",
    "plt.fill_between(train_sizes, test_scores_mean - test_scores_std, test_scores_mean + test_scores_std, alpha=0.1, color=\"g\")\n",
    "plt.plot(train_sizes, train_scores_mean, 'o-', color=\"r\", label=\"Training score\")\n",
    "plt.plot(train_sizes, test_scores_mean, 'o-', color=\"g\", label=\"Cross-validation score\")\n",
    "plt.title(\"Learning Curve\")\n",
    "plt.xlabel(\"Training Examples\")\n",
    "plt.ylabel(\"Negative Mean Squared Error\")\n",
    "plt.legend(loc=\"best\")\n",
    "plt.grid(True)\n",
    "plt.show()"
   ]
  },
  {
   "cell_type": "code",
   "execution_count": null,
   "id": "3c40c251",
   "metadata": {},
   "outputs": [],
   "source": [
    "# Predictions\n",
    "y_pred = best_svm_model.predict(X_valid_scaled)\n",
    "\n",
    "# Evaluate with different metrics\n",
    "r2_score = best_svm_model.score(y_valid, y_pred)\n",
    "mse = mean_squared_error(y_valid, y_pred)\n",
    "print(f\"R^2 Score: {r2_score}\")\n",
    "print(f\"Mean Squared Error: {mse}\")\n",
    "\n",
    "\n",
    "# Plotting the Predicted vs. Actual values\n",
    "plt.figure(figsize=(10, 6))\n",
    "plt.scatter(y_valid, y_pred, color='blue', alpha=0.5)\n",
    "plt.plot([y_valid.min(), y_valid.max()], [y_valid.min(), y_valid.max()], 'k--', lw=2)\n",
    "plt.xlabel('Actual Values')\n",
    "plt.ylabel('Predicted Values')\n",
    "plt.title('Predicted vs. Actual Values (SVR)')\n",
    "plt.grid(True) \n",
    "plt.show()\n",
    "\n",
    "# Calculate residuals\n",
    "residuals = y_valid - y_pred\n",
    "\n",
    "# Plotting the Residuals\n",
    "plt.figure(figsize=(10, 6))\n",
    "plt.scatter(y_pred, residuals, color='red', alpha=0.5)\n",
    "plt.axhline(y=0, color='k', linestyle='--', lw=2)\n",
    "plt.xlabel('Actual Values')\n",
    "plt.ylabel('Residuals')\n",
    "plt.title('Residual Plot (SVR)')\n",
    "plt.grid(True)\n",
    "plt.show()"
   ]
  },
  {
   "cell_type": "code",
   "execution_count": null,
   "id": "1688eaa5",
   "metadata": {},
   "outputs": [],
   "source": [
    "\"hello\""
   ]
  }
 ],
 "metadata": {
  "kernelspec": {
   "display_name": "Python 3 (ipykernel)",
   "language": "python",
   "name": "python3"
  },
  "language_info": {
   "codemirror_mode": {
    "name": "ipython",
    "version": 3
   },
   "file_extension": ".py",
   "mimetype": "text/x-python",
   "name": "python",
   "nbconvert_exporter": "python",
   "pygments_lexer": "ipython3",
   "version": "3.11.5"
  }
 },
 "nbformat": 4,
 "nbformat_minor": 5
}
